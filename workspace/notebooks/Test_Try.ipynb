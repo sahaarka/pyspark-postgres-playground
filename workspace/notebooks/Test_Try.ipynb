{
 "cells": [
  {
   "cell_type": "code",
   "execution_count": 1,
   "id": "72a39240-3815-428c-b578-34ae9e047981",
   "metadata": {},
   "outputs": [
    {
     "name": "stdout",
     "output_type": "stream",
     "text": [
      "Hello World!\n"
     ]
    }
   ],
   "source": [
    "print(\"Hello World!\")"
   ]
  },
  {
   "cell_type": "code",
   "execution_count": 2,
   "id": "452b1068-013a-4b0d-bb5e-44fe760c9599",
   "metadata": {
    "scrolled": true
   },
   "outputs": [
    {
     "name": "stdout",
     "output_type": "stream",
     "text": [
      "+-----------+----------+\n",
      "| department|avg_salary|\n",
      "+-----------+----------+\n",
      "|      Sales|   60000.0|\n",
      "|Engineering|  100000.0|\n",
      "|         HR|   70000.0|\n",
      "+-----------+----------+\n",
      "\n"
     ]
    }
   ],
   "source": [
    "import os\n",
    "from pyspark.sql import SparkSession\n",
    "\n",
    "os.environ[\"PYSPARK_ALLOW_INSECURE_GATEWAY\"] = \"1\"\n",
    "\n",
    "spark = SparkSession.builder \\\n",
    "    .appName(\"LeetCodeSQL\") \\\n",
    "    .config(\"spark.jars\", \"/usr/local/spark/jars/postgresql-42.6.0.jar\") \\\n",
    "    .getOrCreate()\n",
    "\n",
    "jdbc_url = \"jdbc:postgresql://db:5432/leetcode\"\n",
    "properties = {\n",
    "    \"user\": os.getenv(\"POSTGRES_USER\", \"postgres\"),\n",
    "    \"password\": os.getenv(\"POSTGRES_PASSWORD\", \"postgrespw\"),\n",
    "    \"driver\": \"org.postgresql.Driver\"\n",
    "}\n",
    "\n",
    "df = spark.read.jdbc(url=jdbc_url, table=\"employees\", properties=properties)\n",
    "df.createOrReplaceTempView(\"employees\")\n",
    "\n",
    "spark.sql(\"\"\"\n",
    "SELECT department, AVG(salary) as avg_salary\n",
    "FROM employees\n",
    "GROUP BY department\n",
    "\"\"\").show()\n"
   ]
  },
  {
   "cell_type": "code",
   "execution_count": 4,
   "id": "e35ab318-267c-4dad-8b45-b5ea955cdfd4",
   "metadata": {},
   "outputs": [
    {
     "name": "stdout",
     "output_type": "stream",
     "text": [
      "+-------+------------------+\n",
      "|test_id|  test_description|\n",
      "+-------+------------------+\n",
      "|      1| first description|\n",
      "|      2|second description|\n",
      "|      3| third description|\n",
      "|      4|fourth description|\n",
      "+-------+------------------+\n",
      "\n"
     ]
    }
   ],
   "source": [
    "df_Test = spark.read.jdbc(url=jdbc_url, table=\"Test\", properties=properties)\n",
    "\n",
    "df_Test.show()"
   ]
  }
 ],
 "metadata": {
  "kernelspec": {
   "display_name": "Python 3 (ipykernel)",
   "language": "python",
   "name": "python3"
  },
  "language_info": {
   "codemirror_mode": {
    "name": "ipython",
    "version": 3
   },
   "file_extension": ".py",
   "mimetype": "text/x-python",
   "name": "python",
   "nbconvert_exporter": "python",
   "pygments_lexer": "ipython3",
   "version": "3.11.6"
  }
 },
 "nbformat": 4,
 "nbformat_minor": 5
}
